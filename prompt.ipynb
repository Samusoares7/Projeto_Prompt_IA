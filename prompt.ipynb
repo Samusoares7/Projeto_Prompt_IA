{
  "nbformat": 4,
  "nbformat_minor": 0,
  "metadata": {
    "colab": {
      "provenance": [],
      "authorship_tag": "ABX9TyNRHsAz0Jhcm4kHNcnC5LdC",
      "include_colab_link": true
    },
    "kernelspec": {
      "name": "python3",
      "display_name": "Python 3"
    },
    "language_info": {
      "name": "python"
    }
  },
  "cells": [
    {
      "cell_type": "markdown",
      "metadata": {
        "id": "view-in-github",
        "colab_type": "text"
      },
      "source": [
        "<a href=\"https://colab.research.google.com/github/Samusoares7/Projeto_Prompt_IA/blob/main/prompt.ipynb\" target=\"_parent\"><img src=\"https://colab.research.google.com/assets/colab-badge.svg\" alt=\"Open In Colab\"/></a>"
      ]
    },
    {
      "cell_type": "code",
      "execution_count": 1,
      "metadata": {
        "id": "RxqbeKIyuXYk"
      },
      "outputs": [],
      "source": [
        "!pip install -q -U google-generativeai"
      ]
    },
    {
      "cell_type": "markdown",
      "source": [
        "Instalando o SDK do google\n"
      ],
      "metadata": {
        "id": "r-uqc-BbuefX"
      }
    },
    {
      "cell_type": "code",
      "source": [
        "import google.generativeai as genai\n",
        "import os\n",
        "\n",
        "# Obtém a chave API da variável de ambiente\n",
        "api_key = os.getenv('GOOGLE_API_KEY')\n",
        "\n",
        "# Configura o generativeai com a chave API\n",
        "genai.configure(api_key=api_key)"
      ],
      "metadata": {
        "id": "mfMQj3QTuwO1"
      },
      "execution_count": 34,
      "outputs": []
    },
    {
      "cell_type": "markdown",
      "source": [
        "Listar os modelos disponiveis\n"
      ],
      "metadata": {
        "id": "todBKi8zvClR"
      }
    },
    {
      "cell_type": "code",
      "source": [
        "for m in genai.list_models():\n",
        "  if 'generateContent' in m.supported_generation_methods:\n",
        "    print(m.name)"
      ],
      "metadata": {
        "colab": {
          "base_uri": "https://localhost:8080/",
          "height": 139
        },
        "id": "xfzTLAnMvQvc",
        "outputId": "f7d37db5-e863-41ff-98d2-88ef03eabfbe"
      },
      "execution_count": 3,
      "outputs": [
        {
          "output_type": "stream",
          "name": "stdout",
          "text": [
            "models/gemini-1.0-pro\n",
            "models/gemini-1.0-pro-001\n",
            "models/gemini-1.0-pro-latest\n",
            "models/gemini-1.0-pro-vision-latest\n",
            "models/gemini-1.5-pro-latest\n",
            "models/gemini-pro\n",
            "models/gemini-pro-vision\n"
          ]
        }
      ]
    },
    {
      "cell_type": "code",
      "source": [
        "generation_config={\n",
        "    \"candidate_count\": 1,\n",
        "    \"temperature\": 0.5,\n",
        "\n",
        "}"
      ],
      "metadata": {
        "id": "Pu4Q_1UlxpUD"
      },
      "execution_count": 4,
      "outputs": []
    },
    {
      "cell_type": "markdown",
      "source": [
        "Configurações de Segurança"
      ],
      "metadata": {
        "id": "YOcojICKzX6_"
      }
    },
    {
      "cell_type": "code",
      "source": [
        "safety_settings = {\n",
        "    \"HARASSMENT\":\"BLOCK_NONE\",\n",
        "    \"HATE\":\"BLOCK_NONE\",\n",
        "    \"SEXUAL\":\"BLOCK_NONE\",\n",
        "    \"DANGEROUS\":\"BLOCK_NONE\"\n",
        "}"
      ],
      "metadata": {
        "id": "5tB9W_hhyUnk"
      },
      "execution_count": null,
      "outputs": []
    },
    {
      "cell_type": "markdown",
      "source": [
        "Iniciando o medelo"
      ],
      "metadata": {
        "id": "V_-1aIYb31p-"
      }
    },
    {
      "cell_type": "code",
      "source": [
        "model = genai.GenerativeModel(model_name=\"gemini-1.0-pro\",\n",
        "                              generation_config=generation_config,\n",
        "                              )"
      ],
      "metadata": {
        "id": "1IO48vlAzfpZ"
      },
      "execution_count": 20,
      "outputs": []
    },
    {
      "cell_type": "code",
      "source": [
        "response = model.generate_content(\"Vamos falar sobre estágios para desenvolvedores web.\")\n",
        "print(response.text)"
      ],
      "metadata": {
        "colab": {
          "base_uri": "https://localhost:8080/",
          "height": 922
        },
        "id": "Mg7Aq5zr3Wil",
        "outputId": "12ef7de8-69b9-4b37-fb8b-036ef6766dcd"
      },
      "execution_count": 21,
      "outputs": [
        {
          "output_type": "stream",
          "name": "stdout",
          "text": [
            "**Estágios para Desenvolvedores Web**\n",
            "\n",
            "Os estágios para desenvolvedores web são oportunidades valiosas para estudantes e recém-formados ganharem experiência prática no campo e aprimorarem suas habilidades. Eles oferecem uma ponte entre a sala de aula e o local de trabalho, permitindo que os estagiários apliquem seus conhecimentos e contribuam para projetos do mundo real.\n",
            "\n",
            "**Benefícios dos Estágios**\n",
            "\n",
            "* **Experiência prática:** Os estágios fornecem aos estagiários experiência prática em desenvolvimento web, incluindo codificação, design e solução de problemas.\n",
            "* **Habilidades aprimoradas:** Os estagiários podem desenvolver e aprimorar habilidades técnicas e interpessoais, como programação, comunicação e trabalho em equipe.\n",
            "* **Conexões:** Os estágios oferecem oportunidades para estagiários se conectarem com profissionais da indústria e construir relacionamentos valiosos.\n",
            "* **Pesquisa de carreira:** Os estágios permitem que os estagiários explorem diferentes áreas do desenvolvimento web e identifiquem seus interesses de carreira.\n",
            "* **Possibilidade de emprego:** Muitos estágios levam a ofertas de emprego em tempo integral após a conclusão.\n",
            "\n",
            "**Tipos de Estágios**\n",
            "\n",
            "Existem vários tipos de estágios para desenvolvedores web, incluindo:\n",
            "\n",
            "* **Estágios de front-end:** Focados em design e desenvolvimento da interface do usuário, incluindo HTML, CSS e JavaScript.\n",
            "* **Estágios de back-end:** Envolvem desenvolvimento do lado do servidor, incluindo linguagens como Java, Python e PHP.\n",
            "* **Estágios full-stack:** Combinam desenvolvimento front-end e back-end.\n",
            "* **Estágios de design:** Concentram-se na criação de interfaces de usuário visualmente atraentes e fáceis de usar.\n",
            "* **Estágios de pesquisa e desenvolvimento:** Envolvem exploração de novas tecnologias e desenvolvimento de soluções inovadoras.\n",
            "\n",
            "**Requisitos**\n",
            "\n",
            "Os requisitos para estágios de desenvolvimento web variam dependendo da empresa e do tipo de estágio. No entanto, alguns requisitos comuns incluem:\n",
            "\n",
            "* Matrícula em um programa de graduação ou pós-graduação em ciência da computação, engenharia de software ou um campo relacionado.\n",
            "* Fortes habilidades de programação em linguagens como HTML, CSS, JavaScript, Java ou Python.\n",
            "* Compreensão dos princípios de design da web.\n",
            "* Boas habilidades de comunicação e trabalho em equipe.\n",
            "* Interesse em novas tecnologias e tendências de desenvolvimento web.\n",
            "\n",
            "**Como Encontrar Estágios**\n",
            "\n",
            "Os estágios para desenvolvedores web podem ser encontrados por meio de:\n",
            "\n",
            "* Sites de busca de emprego como LinkedIn, Indeed e Glassdoor.\n",
            "* Universidades e faculdades.\n",
            "* Feiras de carreira.\n",
            "* Contato direto com empresas.\n",
            "* Plataformas de estágio como InternMatch e WayUp.\n",
            "\n",
            "**Dicas para se Destacar**\n",
            "\n",
            "Para se destacar no processo de candidatura a estágios, os candidatos devem:\n",
            "\n",
            "* Criar um currículo e uma carta de apresentação fortes que demonstrem suas habilidades e experiência.\n",
            "* Praticar suas habilidades de codificação e se preparar para perguntas técnicas em entrevistas.\n",
            "* Pesquisar a empresa e o cargo para mostrar seu interesse e conhecimento.\n",
            "* Construir um portfólio de projetos pessoais para demonstrar suas habilidades práticas.\n",
            "* Obter recomendações de professores, orientadores ou empregadores anteriores.\n"
          ]
        }
      ]
    },
    {
      "cell_type": "code",
      "source": [
        "chat = model.start_chat(history=[])"
      ],
      "metadata": {
        "id": "7VELSHra5VJc"
      },
      "execution_count": 22,
      "outputs": []
    },
    {
      "cell_type": "code",
      "source": [
        "prompt = input(\"Esperando o prompt: \")\n",
        "while prompt != \"fim\":\n",
        "  response = chat.send_message(prompt)\n",
        "  print(\"Resposta: \", response.text,\"\\n\")\n",
        "  prompt = input(\"Esperando o prompt: \")"
      ],
      "metadata": {
        "colab": {
          "base_uri": "https://localhost:8080/"
        },
        "id": "1F9SIcJW55CM",
        "outputId": "62c59c5c-cf82-422d-93e1-2df451a8ad56"
      },
      "execution_count": 29,
      "outputs": [
        {
          "name": "stdout",
          "output_type": "stream",
          "text": [
            "Esperando o prompt: fim\n"
          ]
        }
      ]
    }
  ]
}